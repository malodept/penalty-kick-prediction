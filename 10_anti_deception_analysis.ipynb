{
  "cells": [
    {
      "cell_type": "markdown",
      "id": "cfa9d35d",
      "metadata": {
        "id": "cfa9d35d"
      },
      "source": [
        "# 10 – Anti-Deception Analysis\n",
        "\n",
        "In this notebook, we explore whether deceptive body movements influence prediction difficulty.\n",
        "We aim to:\n",
        "- Identify 'uncertain' sequences (low model confidence)\n",
        "- Highlight misclassified examples with feints or body sways\n",
        "- Visualize keypoints for difficult vs. easy predictions\n",
        "- Discuss implications for goalkeeper training"
      ]
    },
    {
      "cell_type": "code",
      "execution_count": null,
      "id": "38f3c33a",
      "metadata": {
        "id": "38f3c33a"
      },
      "outputs": [],
      "source": [
        "import numpy as np\n",
        "import pandas as pd\n",
        "import matplotlib.pyplot as plt\n",
        "\n",
        "# y_true, y_pred, y_pred_classes disponibles depuis notebook 04 ou 05\n",
        "# X : séquences de keypoints normalisées ou brutes\n",
        "# target_names = ['g', 'm', 'd']"
      ]
    },
    {
      "cell_type": "code",
      "execution_count": null,
      "id": "49cc0002",
      "metadata": {
        "id": "49cc0002"
      },
      "outputs": [],
      "source": [
        "# Identifier les prédictions les moins sûres (basées sur la probabilité max)\n",
        "confidences = np.max(y_pred, axis=1)\n",
        "low_conf_indices = np.argsort(confidences)[:10]\n",
        "print(\"Séquences les plus ambiguës :\")\n",
        "for i in low_conf_indices:\n",
        "    print(f\"→ {i}: confidence={confidences[i]:.2f}, true={target_names[y_true[i]]}, pred={target_names[y_pred_classes[i]]}\")"
      ]
    },
    {
      "cell_type": "code",
      "execution_count": null,
      "id": "6740ac70",
      "metadata": {
        "id": "6740ac70"
      },
      "outputs": [],
      "source": [
        "# Visualiser les poses des cas incertains\n",
        "def plot_skeleton(sequence, title=\"\"):\n",
        "    frame = sequence[-1]  # dernière frame avant tir\n",
        "    xs = frame[::2]\n",
        "    ys = frame[1::2]\n",
        "    plt.figure()\n",
        "    plt.scatter(xs, -ys)\n",
        "    plt.title(title)\n",
        "    plt.axis('equal')\n",
        "\n",
        "for i in low_conf_indices[:3]:\n",
        "    plot_skeleton(X[i], f\"Conf={confidences[i]:.2f} | True={target_names[y_true[i]]} | Pred={target_names[y_pred_classes[i]]}\")"
      ]
    },
    {
      "cell_type": "code",
      "execution_count": null,
      "id": "80aedae9",
      "metadata": {
        "id": "80aedae9"
      },
      "outputs": [],
      "source": [
        "# Distribution des confiances selon que la prédiction est correcte ou non\n",
        "correct = (y_true == y_pred_classes)\n",
        "plt.hist(confidences[correct], bins=20, alpha=0.6, label='Correct')\n",
        "plt.hist(confidences[~correct], bins=20, alpha=0.6, label='Incorrect')\n",
        "plt.xlabel('Confidence')\n",
        "plt.ylabel('Count')\n",
        "plt.title('Confidence Distribution')\n",
        "plt.legend()\n",
        "plt.show()"
      ]
    },
    {
      "cell_type": "code",
      "execution_count": null,
      "id": "501d8972",
      "metadata": {
        "id": "501d8972"
      },
      "outputs": [],
      "source": [
        "# Hypothèse : les séquences trompeuses ont des variations plus importantes (pose 'instable')\n",
        "variances = np.array([np.var(seq) for seq in X])\n",
        "plt.scatter(confidences, variances, c=correct, cmap='coolwarm', alpha=0.7)\n",
        "plt.xlabel('Confidence')\n",
        "plt.ylabel('Pose Variance')\n",
        "plt.title('Variance vs Confidence')\n",
        "plt.colorbar(label='Correct (1) or Incorrect (0)')\n",
        "plt.show()"
      ]
    }
  ],
  "metadata": {
    "kernelspec": {
      "display_name": "Python 3",
      "name": "python3"
    },
    "colab": {
      "provenance": []
    }
  },
  "nbformat": 4,
  "nbformat_minor": 5
}