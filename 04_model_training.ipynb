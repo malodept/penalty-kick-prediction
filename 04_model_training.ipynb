{
  "cells": [
    {
      "cell_type": "markdown",
      "id": "738fd184",
      "metadata": {
        "id": "738fd184"
      },
      "source": [
        "# 04 – Model Training (LSTM)\n",
        "\n",
        "In this notebook, we train an LSTM model to classify the direction of penalty kicks based on keypoint sequences extracted with YOLOv7-Pose.\n",
        "\n",
        " Input: preprocessed dataset (X, y) from notebook 03\n",
        "\n",
        " Output: trained model, accuracy, loss curve, and confusion matrix"
      ]
    },
    {
      "cell_type": "code",
      "execution_count": null,
      "id": "02310a0c",
      "metadata": {
        "id": "02310a0c"
      },
      "outputs": [],
      "source": [
        "import numpy as np\n",
        "import matplotlib.pyplot as plt\n",
        "from sklearn.model_selection import train_test_split\n",
        "from sklearn.metrics import classification_report, confusion_matrix\n",
        "import seaborn as sns\n",
        "import tensorflow as tf\n",
        "from tensorflow.keras.models import Sequential\n",
        "from tensorflow.keras.layers import LSTM, Dense, Dropout, Masking\n",
        "from tensorflow.keras.utils import to_categorical\n",
        "\n",
        "# Charger les données sauvegardées (ou depuis 03 directement)\n",
        "# Si 03 vient d’être exécuté, on garde X, y sinon on peut charger avec np.load()"
      ]
    },
    {
      "cell_type": "code",
      "execution_count": null,
      "id": "e3c786c1",
      "metadata": {
        "id": "e3c786c1"
      },
      "outputs": [],
      "source": [
        "# Encodage des labels (g:0, m:1, d:2)\n",
        "y_cat = to_categorical(y, num_classes=3)\n",
        "X_train, X_test, y_train, y_test = train_test_split(X, y_cat, test_size=0.2, random_state=42)\n",
        "\n",
        "X_train.shape, X_test.shape, y_train.shape"
      ]
    },
    {
      "cell_type": "code",
      "execution_count": null,
      "id": "4073c35e",
      "metadata": {
        "id": "4073c35e"
      },
      "outputs": [],
      "source": [
        "# Définir un modèle LSTM simple\n",
        "model = Sequential()\n",
        "model.add(Masking(mask_value=0., input_shape=(X.shape[1], X.shape[2])))\n",
        "model.add(LSTM(64, return_sequences=False))\n",
        "model.add(Dropout(0.5))\n",
        "model.add(Dense(32, activation='relu'))\n",
        "model.add(Dense(3, activation='softmax'))\n",
        "\n",
        "model.compile(optimizer='adam', loss='categorical_crossentropy', metrics=['accuracy'])\n",
        "model.summary()"
      ]
    },
    {
      "cell_type": "code",
      "execution_count": null,
      "id": "89bd4576",
      "metadata": {
        "id": "89bd4576"
      },
      "outputs": [],
      "source": [
        "# Entraînement\n",
        "history = model.fit(\n",
        "    X_train, y_train,\n",
        "    epochs=30,\n",
        "    batch_size=16,\n",
        "    validation_data=(X_test, y_test),\n",
        "    verbose=1\n",
        ")"
      ]
    },
    {
      "cell_type": "code",
      "execution_count": null,
      "id": "3d08ec89",
      "metadata": {
        "id": "3d08ec89"
      },
      "outputs": [],
      "source": [
        "# Affichage des courbes d'entraînement\n",
        "plt.plot(history.history['accuracy'], label='train acc')\n",
        "plt.plot(history.history['val_accuracy'], label='val acc')\n",
        "plt.title('Accuracy')\n",
        "plt.legend()\n",
        "plt.show()"
      ]
    },
    {
      "cell_type": "code",
      "execution_count": null,
      "id": "ac72e771",
      "metadata": {
        "id": "ac72e771"
      },
      "outputs": [],
      "source": [
        "# Évaluation finale\n",
        "y_pred = model.predict(X_test)\n",
        "y_true = np.argmax(y_test, axis=1)\n",
        "y_pred_classes = np.argmax(y_pred, axis=1)\n",
        "\n",
        "print(classification_report(y_true, y_pred_classes, target_names=['g', 'm', 'd']))"
      ]
    },
    {
      "cell_type": "code",
      "execution_count": null,
      "id": "526c5990",
      "metadata": {
        "id": "526c5990"
      },
      "outputs": [],
      "source": [
        "# Confusion matrix\n",
        "cm = confusion_matrix(y_true, y_pred_classes)\n",
        "sns.heatmap(cm, annot=True, fmt='d', xticklabels=['g', 'm', 'd'], yticklabels=['g', 'm', 'd'])\n",
        "plt.xlabel('Predicted')\n",
        "plt.ylabel('True')\n",
        "plt.title('Confusion Matrix')\n",
        "plt.show()"
      ]
    }
  ],
  "metadata": {
    "kernelspec": {
      "display_name": "Python 3",
      "name": "python3"
    },
    "colab": {
      "provenance": []
    }
  },
  "nbformat": 4,
  "nbformat_minor": 5
}