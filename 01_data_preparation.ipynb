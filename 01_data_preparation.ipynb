{
  "cells": [
    {
      "cell_type": "markdown",
      "id": "e4805acd",
      "metadata": {
        "id": "e4805acd"
      },
      "source": [
        "# 01 – Data Preparation: Cutting and Labeling Penalty Videos\n",
        "\n",
        "In this notebook, we extract individual penalty kick videos from long match footage (e.g. 'all Ronaldo penalties') using a timecode file and generate labeled clips like `penalty_ronaldo_12_g.mp4`, `penalty_messi_03_d.mp4`, etc.\n",
        "\n",
        "Input: all videos in `not_treated/` (named like `penaltys_ronaldo.mp4`, `penaltys_messi.mp4`, etc.)\n",
        "Timecodes: in `timecodes.txt`, must be in same folder as each video\n",
        "Output: videos saved in `treated/` with standardized names"
      ]
    },
    {
      "cell_type": "code",
      "execution_count": null,
      "id": "623e2db8",
      "metadata": {
        "id": "623e2db8"
      },
      "outputs": [],
      "source": [
        "import os\n",
        "import subprocess\n",
        "import pandas as pd\n",
        "\n",
        "# Chemins de base\n",
        "base_path = r\"D:/malo/Documents/projets/penalty_prediction/penalty_dataset\"\n",
        "not_treated_dir = os.path.join(base_path, \"not treated\")\n",
        "treated_dir = os.path.join(base_path, \"treated\")\n",
        "os.makedirs(treated_dir, exist_ok=True)"
      ]
    },
    {
      "cell_type": "code",
      "execution_count": null,
      "id": "2d914678",
      "metadata": {
        "id": "2d914678"
      },
      "outputs": [],
      "source": [
        "def read_timecodes(txt_file_path):\n",
        "    timecodes = []\n",
        "    with open(txt_file_path, \"r\") as f:\n",
        "        for line in f:\n",
        "            parts = line.strip().split()\n",
        "            if len(parts) == 3 and parts[0].count(\":\") == 3:\n",
        "                start, end, direction = parts\n",
        "                timecodes.append((start, end, direction))\n",
        "    return timecodes\n",
        "\n",
        "def timecode_to_seconds(tc):\n",
        "    h, m, s, ms = map(int, tc.split(\":\"))\n",
        "    return h * 3600 + m * 60 + s + ms / 1000"
      ]
    },
    {
      "cell_type": "code",
      "execution_count": null,
      "id": "58ff8f12",
      "metadata": {
        "id": "58ff8f12"
      },
      "outputs": [],
      "source": [
        "# Traitement de toutes les vidéos longues dans not_treated\n",
        "all_labels = []\n",
        "\n",
        "for video_file in os.listdir(not_treated_dir):\n",
        "    if video_file.endswith(\".mp4\") and video_file.startswith(\"penaltys_\"):\n",
        "        video_path = os.path.join(not_treated_dir, video_file)\n",
        "        player = video_file.replace(\"penaltys_\", \"\").replace(\".mp4\", \"\")\n",
        "        txt_path = video_path.replace(\".mp4\", \".txt\")\n",
        "\n",
        "        if not os.path.exists(txt_path):\n",
        "            print(f\"Pas de fichier timecode pour {video_file}, ignoré.\")\n",
        "            continue\n",
        "\n",
        "        timecodes = read_timecodes(txt_path)\n",
        "        print(f\"🎞️  {len(timecodes)} penaltys trouvés pour {player}\")\n",
        "\n",
        "        for idx, (start, end, direction) in enumerate(timecodes):\n",
        "            start_sec = timecode_to_seconds(start) + 0.2\n",
        "            end_sec = timecode_to_seconds(end) + 0.8\n",
        "\n",
        "            output_filename = f\"penalty_{player}_{idx+1:02d}_{direction}.mp4\"\n",
        "            output_path = os.path.join(treated_dir, output_filename)\n",
        "\n",
        "            cmd = [\n",
        "                \"ffmpeg\", \"-i\", video_path,\n",
        "                \"-ss\", str(start_sec), \"-to\", str(end_sec),\n",
        "                \"-c:v\", \"libx264\", \"-c:a\", \"aac\", \"-strict\", \"experimental\",\n",
        "                \"-y\", output_path\n",
        "            ]\n",
        "            subprocess.run(cmd, stdout=subprocess.DEVNULL, stderr=subprocess.DEVNULL)\n",
        "\n",
        "            all_labels.append({\"filename\": output_filename, \"label\": direction})"
      ]
    },
    {
      "cell_type": "code",
      "execution_count": null,
      "id": "e32e5e9e",
      "metadata": {
        "id": "e32e5e9e"
      },
      "outputs": [],
      "source": [
        "# Enregistrement du CSV des labels\n",
        "df = pd.DataFrame(all_labels)\n",
        "csv_path = os.path.join(base_path, \"penalty_labels.csv\")\n",
        "df.to_csv(csv_path, index=False)\n",
        "print(\"CSV des labels généré :\", csv_path)\n",
        "df.head()"
      ]
    }
  ],
  "metadata": {
    "kernelspec": {
      "display_name": "Python 3",
      "name": "python3"
    },
    "colab": {
      "provenance": []
    }
  },
  "nbformat": 4,
  "nbformat_minor": 5
}