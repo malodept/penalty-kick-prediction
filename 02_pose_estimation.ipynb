{
  "cells": [
    {
      "cell_type": "markdown",
      "id": "f007e6cc",
      "metadata": {
        "id": "f007e6cc"
      },
      "source": [
        "# 02 – Pose Estimation with YOLOv7-Pose\n",
        "\n",
        "In this notebook, we extract pose keypoints from penalty kick videos using the YOLOv7-Pose model. Each video is processed frame by frame to extract a 17-point skeleton, which will later be used for sequence modeling.\n",
        "\n",
        "Input: all videos in `treated/`\n",
        "Output: folders in `yolov7/runs/pose/<video_name>/labels/` containing one .txt file per frame"
      ]
    },
    {
      "cell_type": "code",
      "execution_count": null,
      "id": "4bb736e5",
      "metadata": {
        "id": "4bb736e5"
      },
      "outputs": [],
      "source": [
        "import os\n",
        "import subprocess\n",
        "from pathlib import Path\n",
        "\n",
        "# Configuration des chemins\n",
        "video_dir = r\"D:/malo/Documents/projets/penalty_prediction/penalty_dataset/treated\"\n",
        "yolo_dir = r\"D:/malo/Documents/yolov7\"\n",
        "weights_path = os.path.join(yolo_dir, \"yolov7-w6-pose.pt\")\n",
        "output_base = os.path.join(yolo_dir, \"runs\", \"pose\")\n",
        "\n",
        "os.makedirs(output_base, exist_ok=True)"
      ]
    },
    {
      "cell_type": "code",
      "execution_count": null,
      "id": "525ce002",
      "metadata": {
        "id": "525ce002"
      },
      "outputs": [],
      "source": [
        "# Fonction pour exécuter la détection de pose sur une vidéo\n",
        "def run_pose_estimation(video_path, video_name):\n",
        "    cmd = [\n",
        "        \"python\", \"pose.py\",\n",
        "        \"--weights\", weights_path,\n",
        "        \"--source\", video_path,\n",
        "        \"--img-size\", \"640\",\n",
        "        \"--conf-thres\", \"0.25\",\n",
        "        \"--device\", \"0\",\n",
        "        \"--save-txt\",\n",
        "        \"--name\", video_name\n",
        "    ]\n",
        "    subprocess.run(cmd, cwd=yolo_dir)"
      ]
    },
    {
      "cell_type": "code",
      "execution_count": null,
      "id": "d4a81b12",
      "metadata": {
        "id": "d4a81b12"
      },
      "outputs": [],
      "source": [
        "# Lancer YOLOv7 sur toutes les vidéos dans `treated/`\n",
        "video_files = list(Path(video_dir).glob(\"*.mp4\"))\n",
        "print(f\"{len(video_files)} vidéos trouvées dans le dossier traité\")\n",
        "\n",
        "for video_file in video_files:\n",
        "    name = video_file.stem\n",
        "    print(f\"Traitement : {name}\")\n",
        "    run_pose_estimation(str(video_file), name)"
      ]
    },
    {
      "cell_type": "code",
      "execution_count": null,
      "id": "d4f0483a",
      "metadata": {
        "id": "d4f0483a"
      },
      "outputs": [],
      "source": [
        "# Résultat : dossiers dans runs/pose/<video_name>/labels/\n",
        "import glob\n",
        "example = glob.glob(os.path.join(output_base, '*', 'labels', '*.txt'))[:3]\n",
        "example"
      ]
    }
  ],
  "metadata": {
    "kernelspec": {
      "display_name": "Python 3",
      "name": "python3"
    },
    "colab": {
      "provenance": []
    }
  },
  "nbformat": 4,
  "nbformat_minor": 5
}