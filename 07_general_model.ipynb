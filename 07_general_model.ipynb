{
  "cells": [
    {
      "cell_type": "markdown",
      "id": "559c4294",
      "metadata": {
        "id": "559c4294"
      },
      "source": [
        "# 07 – Generalized Model (Cross-Player, Robustness Test)\n",
        "\n",
        "In this notebook, we aim to train a more general model that works across different players and shooting styles. This involves:\n",
        "- Aggregating data from multiple players\n",
        "- Normalizing poses to account for size, angle, or camera variation\n",
        "- Evaluating whether the model generalizes well to unseen players\n",
        "- Discussing robustness and keypoints most predictive of shot direction"
      ]
    },
    {
      "cell_type": "code",
      "execution_count": null,
      "id": "4b9a6fd5",
      "metadata": {
        "id": "4b9a6fd5"
      },
      "outputs": [],
      "source": [
        "import numpy as np\n",
        "import pandas as pd\n",
        "from sklearn.model_selection import train_test_split\n",
        "from sklearn.metrics import classification_report\n",
        "from tensorflow.keras.utils import to_categorical\n",
        "import tensorflow as tf\n",
        "from tensorflow.keras.models import Sequential\n",
        "from tensorflow.keras.layers import LSTM, Dense, Dropout, Masking\n",
        "\n",
        "# Supposé : X, y déjà préchargés (concaténation multi-joueurs)\n",
        "# Labels en g/m/d et fichier penalty_labels.csv avec colonne 'player' ajoutée"
      ]
    },
    {
      "cell_type": "code",
      "execution_count": null,
      "id": "000a7995",
      "metadata": {
        "id": "000a7995"
      },
      "outputs": [],
      "source": [
        "# normaliser chaque séquence individuellement (centrer autour du bassin)\n",
        "def normalize_sequence(seq):\n",
        "    seq = np.array(seq)\n",
        "    if seq.shape[1] % 2 != 0:\n",
        "        return seq\n",
        "    pelvis_x = seq[:, 0]\n",
        "    pelvis_y = seq[:, 1]\n",
        "    coords = seq.reshape(seq.shape[0], -1, 2)\n",
        "    coords[:, :, 0] -= pelvis_x[:, None]\n",
        "    coords[:, :, 1] -= pelvis_y[:, None]\n",
        "    return coords.reshape(seq.shape[0], -1)\n",
        "\n",
        "X = np.array([normalize_sequence(s) for s in X])"
      ]
    },
    {
      "cell_type": "code",
      "execution_count": null,
      "id": "8a17669e",
      "metadata": {
        "id": "8a17669e"
      },
      "outputs": [],
      "source": [
        "# Encodage et split\n",
        "label_map = {'g': 0, 'm': 1, 'd': 2}\n",
        "y_cat = to_categorical([label_map[l] for l in y], num_classes=3)\n",
        "X_train, X_test, y_train, y_test = train_test_split(X, y_cat, test_size=0.2, random_state=42)"
      ]
    },
    {
      "cell_type": "code",
      "execution_count": null,
      "id": "70fc81b8",
      "metadata": {
        "id": "70fc81b8"
      },
      "outputs": [],
      "source": [
        "# Entraînement modèle LSTM généralisé\n",
        "model = Sequential([\n",
        "    Masking(mask_value=0., input_shape=(X.shape[1], X.shape[2])),\n",
        "    LSTM(64),\n",
        "    Dropout(0.4),\n",
        "    Dense(32, activation='relu'),\n",
        "    Dense(3, activation='softmax')\n",
        "])\n",
        "model.compile(optimizer='adam', loss='categorical_crossentropy', metrics=['accuracy'])\n",
        "model.summary()\n",
        "model.fit(X_train, y_train, epochs=25, batch_size=16, validation_data=(X_test, y_test))"
      ]
    },
    {
      "cell_type": "code",
      "execution_count": null,
      "id": "1d7e1713",
      "metadata": {
        "id": "1d7e1713"
      },
      "outputs": [],
      "source": [
        "# Évaluation finale du modèle généralisé\n",
        "y_pred = model.predict(X_test)\n",
        "y_true = np.argmax(y_test, axis=1)\n",
        "y_pred_classes = np.argmax(y_pred, axis=1)\n",
        "print(classification_report(y_true, y_pred_classes, target_names=['g', 'm', 'd']))"
      ]
    }
  ],
  "metadata": {
    "kernelspec": {
      "display_name": "Python 3",
      "name": "python3"
    },
    "colab": {
      "provenance": []
    }
  },
  "nbformat": 4,
  "nbformat_minor": 5
}