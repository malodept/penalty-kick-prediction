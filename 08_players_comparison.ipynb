{
  "cells": [
    {
      "cell_type": "markdown",
      "id": "5bf9b1c1",
      "metadata": {
        "id": "5bf9b1c1"
      },
      "source": [
        "# 08 – Player Comparison\n",
        "\n",
        "In this notebook, we explore differences in penalty style between players.\n",
        "We rely on pose keypoint sequences to analyze:\n",
        "- average approach trajectory\n",
        "- shot direction tendencies\n",
        "- visual differences in body pose"
      ]
    },
    {
      "cell_type": "code",
      "execution_count": null,
      "id": "81b5f29c",
      "metadata": {
        "id": "81b5f29c"
      },
      "outputs": [],
      "source": [
        "import os\n",
        "import numpy as np\n",
        "import pandas as pd\n",
        "import matplotlib.pyplot as plt\n",
        "import seaborn as sns\n",
        "\n",
        "# must have a 'player' column\n",
        "labels_path = r\"D:/malo/Documents/projets/penalty_prediction/penalty_dataset/penalty_labels.csv\"\n",
        "df = pd.read_csv(labels_path)\n",
        "df.head()"
      ]
    },
    {
      "cell_type": "code",
      "execution_count": null,
      "id": "51b2b006",
      "metadata": {
        "id": "51b2b006"
      },
      "outputs": [],
      "source": [
        "# Répartition des tirs par joueur\n",
        "player_counts = df['player'].value_counts()\n",
        "player_counts.plot(kind='bar')\n",
        "plt.title('Nombre de tirs par joueur')\n",
        "plt.ylabel('Nombre de penaltys')\n",
        "plt.xlabel('Joueur')\n",
        "plt.show()"
      ]
    },
    {
      "cell_type": "code",
      "execution_count": null,
      "id": "8739c146",
      "metadata": {
        "id": "8739c146"
      },
      "outputs": [],
      "source": [
        "# Répartition directionnelle par joueur\n",
        "pivot = df.pivot_table(index='player', columns='label', aggfunc='size', fill_value=0)\n",
        "pivot.plot(kind='bar', stacked=True)\n",
        "plt.title('Répartition des directions par joueur')\n",
        "plt.ylabel('Nombre')\n",
        "plt.xlabel('Joueur')\n",
        "plt.show()"
      ]
    },
    {
      "cell_type": "code",
      "execution_count": null,
      "id": "bf416dc5",
      "metadata": {
        "id": "bf416dc5"
      },
      "outputs": [],
      "source": [
        "# Comparaison de la posture moyenne à t = -1\n",
        "# Suppose X contient les séquences keypoints alignées et df contient 'player'\n",
        "# Moyenne des dernières frames par joueur\n",
        "from collections import defaultdict\n",
        "\n",
        "player_poses = defaultdict(list)\n",
        "\n",
        "for i, player in enumerate(df['player']):\n",
        "    seq = X[i]  # (timesteps, features)\n",
        "    if len(seq) > 0:\n",
        "        player_poses[player].append(seq[-1])\n",
        "\n",
        "for player, poses in player_poses.items():\n",
        "    avg_pose = np.mean(poses, axis=0)\n",
        "    xs = avg_pose[::2]\n",
        "    ys = avg_pose[1::2]\n",
        "    plt.scatter(xs, -ys, label=player)\n",
        "\n",
        "plt.legend()\n",
        "plt.title(\"Posture moyenne juste avant la frappe\")\n",
        "plt.show()"
      ]
    }
  ],
  "metadata": {
    "kernelspec": {
      "display_name": "Python 3",
      "name": "python3"
    },
    "colab": {
      "provenance": []
    }
  },
  "nbformat": 4,
  "nbformat_minor": 5
}